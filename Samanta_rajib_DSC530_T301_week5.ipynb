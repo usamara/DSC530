{
 "cells": [
  {
   "cell_type": "code",
   "execution_count": 96,
   "id": "efb4f125",
   "metadata": {},
   "outputs": [],
   "source": [
    "## Assignment 62: 5-1\n",
    "# In the BRFSS (see Section 5.4), the distribution of heights is roughly normal with parameters µ = 178 cm and σ = 7.7 cm for men, and µ = 163 cm and σ = 7.3 cm for women.\n",
    "# In order to join Blue Man Group, you have to be male between 5’10” and 6’1” (see http://bluemancasting.com). What percentage of the U.S. male population is in this range? \n",
    "# Lets calculate the Male %\n",
    "import scipy.stats"
   ]
  },
  {
   "cell_type": "code",
   "execution_count": 97,
   "id": "92ee31a9",
   "metadata": {},
   "outputs": [
    {
     "data": {
      "text/plain": [
       "scipy.stats._distn_infrastructure.rv_frozen"
      ]
     },
     "execution_count": 97,
     "metadata": {},
     "output_type": "execute_result"
    }
   ],
   "source": [
    "## Mean height for male\n",
    "mu = 178\n",
    "## standard deviation \n",
    "sigma = 7.7\n",
    "## Perform the distribution set from the Mu and sigma\n",
    "dist = scipy.stats.norm(loc=mu, scale=sigma)\n",
    "type(dist)"
   ]
  },
  {
   "cell_type": "code",
   "execution_count": 98,
   "id": "55f887c0",
   "metadata": {},
   "outputs": [
    {
     "data": {
      "text/plain": [
       "(178.0, 7.7)"
      ]
     },
     "execution_count": 98,
     "metadata": {},
     "output_type": "execute_result"
    }
   ],
   "source": [
    "## Verify the mean and std from the normal distribution set\n",
    "dist.mean(), dist.std()"
   ]
  },
  {
   "cell_type": "code",
   "execution_count": 99,
   "id": "e30b0421",
   "metadata": {},
   "outputs": [
    {
     "data": {
      "text/plain": [
       "0.1586552539314574"
      ]
     },
     "execution_count": 99,
     "metadata": {},
     "output_type": "execute_result"
    }
   ],
   "source": [
    "\n",
    "dist.cdf(mu - sigma)"
   ]
  },
  {
   "cell_type": "code",
   "execution_count": 100,
   "id": "19fce78a",
   "metadata": {},
   "outputs": [
    {
     "data": {
      "text/plain": [
       "0.48963902786483265"
      ]
     },
     "execution_count": 100,
     "metadata": {},
     "output_type": "execute_result"
    }
   ],
   "source": [
    "# Now calculate What percentage of the U.S. male population is in this range?\n",
    "##  5'10\" = 177.8 cm\n",
    "## evaluate its CDF to determine any people are below the low or height less than equal to 177.8 cm\n",
    "low = dist.cdf(177.8)  \n",
    "low"
   ]
  },
  {
   "cell_type": "code",
   "execution_count": 101,
   "id": "c90fc3bb",
   "metadata": {},
   "outputs": [
    {
     "data": {
      "text/plain": [
       "0.8317337108107857"
      ]
     },
     "execution_count": 101,
     "metadata": {},
     "output_type": "execute_result"
    }
   ],
   "source": [
    "##  6'1\" = 185.4 cm\n",
    "## evaluate its CDF to determine any people are below the high or height less than than equal to 185.4 cm\n",
    "high = dist.cdf(185.4) \n",
    "high"
   ]
  },
  {
   "cell_type": "code",
   "execution_count": 102,
   "id": "7e89c404",
   "metadata": {},
   "outputs": [
    {
     "data": {
      "text/plain": [
       "0.3420946829459531"
      ]
     },
     "execution_count": 102,
     "metadata": {},
     "output_type": "execute_result"
    }
   ],
   "source": [
    "## Detremine how many people are in between the low and high height\n",
    "high - low"
   ]
  },
  {
   "cell_type": "code",
   "execution_count": 103,
   "id": "5a8a9b6c",
   "metadata": {},
   "outputs": [],
   "source": [
    "## Ans--> 34% percentage of the U.S. male population is in the height range of 5’10” and 6’1”"
   ]
  },
  {
   "cell_type": "code",
   "execution_count": 104,
   "id": "e74f5052",
   "metadata": {},
   "outputs": [
    {
     "data": {
      "text/plain": [
       "1.5034066538560549"
      ]
     },
     "execution_count": 104,
     "metadata": {},
     "output_type": "execute_result"
    }
   ],
   "source": [
    "# Page 63: 5-2 (To get a feel for the Pareto distribution, let’s see how different the world would be if the distribution of human height were Pareto. With the parameters xm = 1 m and α = 1.7, \n",
    "# we get a distribution with a reasonable minimum, 1 m, and median, 1.5 m.)\n",
    "\n",
    "## Minimum value is 1 meter and standard deviation is 1.7\n",
    "\n",
    "alpha = 1.7\n",
    "xmin = 1  # meter\n",
    "# determine pareto distribution\n",
    "dist = scipy.stats.pareto(b=alpha, scale=xmin)\n",
    "# calculate the mdeian value\n",
    "dist.median()\n"
   ]
  },
  {
   "cell_type": "code",
   "execution_count": 105,
   "id": "91c64479",
   "metadata": {},
   "outputs": [
    {
     "data": {
      "text/plain": [
       "2.428571428571429"
      ]
     },
     "execution_count": 105,
     "metadata": {},
     "output_type": "execute_result"
    }
   ],
   "source": [
    "# What is the mean height in Pareto world? calculate the mean\n",
    "## Ans--> Mean height is 2.43 meter\n",
    "dist.mean()"
   ]
  },
  {
   "cell_type": "code",
   "execution_count": 106,
   "id": "1d671886",
   "metadata": {},
   "outputs": [
    {
     "data": {
      "text/plain": [
       "0.778739697565288"
      ]
     },
     "execution_count": 106,
     "metadata": {},
     "output_type": "execute_result"
    }
   ],
   "source": [
    "# What fraction of people are shorter than the mean?\n",
    "## Ans-->  Use CDF function to determine the % , around 78% people are shorter than mean height that is 2.43 meter.\n",
    "\n",
    "dist.cdf(dist.mean())"
   ]
  },
  {
   "cell_type": "code",
   "execution_count": 107,
   "id": "3911ff15",
   "metadata": {},
   "outputs": [
    {
     "data": {
      "text/plain": [
       "0.9999920567176528"
      ]
     },
     "execution_count": 107,
     "metadata": {},
     "output_type": "execute_result"
    }
   ],
   "source": [
    "# If there are 7 billion people in Pareto world, how many do we expect to be taller than 1 km?\n",
    "## Ans --> 1Km = 1000 meter\n",
    "## Determine % of people shorter than 1KM using CDF\n",
    "dist.cdf(1000)"
   ]
  },
  {
   "cell_type": "code",
   "execution_count": 108,
   "id": "07c7f498",
   "metadata": {},
   "outputs": [
    {
     "data": {
      "text/plain": [
       "7.943282347211422e-06"
      ]
     },
     "execution_count": 108,
     "metadata": {},
     "output_type": "execute_result"
    }
   ],
   "source": [
    "## now calculate % of people taller than 1KM using CDF \n",
    "(1-0.9999920567176528)"
   ]
  },
  {
   "cell_type": "code",
   "execution_count": 109,
   "id": "bf3d0dad",
   "metadata": {},
   "outputs": [
    {
     "data": {
      "text/plain": [
       "55602.976430479954"
      ]
     },
     "execution_count": 109,
     "metadata": {},
     "output_type": "execute_result"
    }
   ],
   "source": [
    "## How many are taller than 1 KM from 7 billion people\n",
    "## Ans--> 55602\n",
    "(1-0.9999920567176528)*7e9"
   ]
  },
  {
   "cell_type": "code",
   "execution_count": 110,
   "id": "4fcf8073",
   "metadata": {},
   "outputs": [
    {
     "data": {
      "text/plain": [
       "618349.6106759505"
      ]
     },
     "execution_count": 110,
     "metadata": {},
     "output_type": "execute_result"
    }
   ],
   "source": [
    "# How tall do we expect the tallest person to be?\n",
    "## Ans--> we will using 'percent point function\", which is the inverse CDF\n",
    "##. its around 618350 meter\n",
    "dist.ppf(1 - 1 / 7e9)"
   ]
  },
  {
   "cell_type": "code",
   "execution_count": 111,
   "id": "a1fe720c",
   "metadata": {},
   "outputs": [],
   "source": [
    "# Assignmnet Pages 75-76: 6-1\n",
    "# Load the data file\n",
    "download(\"https://github.com/AllenDowney/ThinkStats2/raw/master/code/hinc.py\")\n",
    "download(\"https://github.com/AllenDowney/ThinkStats2/raw/master/code/hinc06.csv\")"
   ]
  },
  {
   "cell_type": "code",
   "execution_count": 112,
   "id": "0b40a9b4",
   "metadata": {},
   "outputs": [
    {
     "data": {
      "text/html": [
       "<div>\n",
       "<style scoped>\n",
       "    .dataframe tbody tr th:only-of-type {\n",
       "        vertical-align: middle;\n",
       "    }\n",
       "\n",
       "    .dataframe tbody tr th {\n",
       "        vertical-align: top;\n",
       "    }\n",
       "\n",
       "    .dataframe thead th {\n",
       "        text-align: right;\n",
       "    }\n",
       "</style>\n",
       "<table border=\"1\" class=\"dataframe\">\n",
       "  <thead>\n",
       "    <tr style=\"text-align: right;\">\n",
       "      <th></th>\n",
       "      <th>income</th>\n",
       "      <th>freq</th>\n",
       "      <th>cumsum</th>\n",
       "      <th>ps</th>\n",
       "    </tr>\n",
       "  </thead>\n",
       "  <tbody>\n",
       "    <tr>\n",
       "      <th>0</th>\n",
       "      <td>4999.0</td>\n",
       "      <td>4204</td>\n",
       "      <td>4204</td>\n",
       "      <td>0.034330</td>\n",
       "    </tr>\n",
       "    <tr>\n",
       "      <th>1</th>\n",
       "      <td>9999.0</td>\n",
       "      <td>4729</td>\n",
       "      <td>8933</td>\n",
       "      <td>0.072947</td>\n",
       "    </tr>\n",
       "    <tr>\n",
       "      <th>2</th>\n",
       "      <td>14999.0</td>\n",
       "      <td>6982</td>\n",
       "      <td>15915</td>\n",
       "      <td>0.129963</td>\n",
       "    </tr>\n",
       "    <tr>\n",
       "      <th>3</th>\n",
       "      <td>19999.0</td>\n",
       "      <td>7157</td>\n",
       "      <td>23072</td>\n",
       "      <td>0.188407</td>\n",
       "    </tr>\n",
       "    <tr>\n",
       "      <th>4</th>\n",
       "      <td>24999.0</td>\n",
       "      <td>7131</td>\n",
       "      <td>30203</td>\n",
       "      <td>0.246640</td>\n",
       "    </tr>\n",
       "  </tbody>\n",
       "</table>\n",
       "</div>"
      ],
      "text/plain": [
       "    income  freq  cumsum        ps\n",
       "0   4999.0  4204    4204  0.034330\n",
       "1   9999.0  4729    8933  0.072947\n",
       "2  14999.0  6982   15915  0.129963\n",
       "3  19999.0  7157   23072  0.188407\n",
       "4  24999.0  7131   30203  0.246640"
      ]
     },
     "execution_count": 112,
     "metadata": {},
     "output_type": "execute_result"
    }
   ],
   "source": [
    "import hinc\n",
    "income_df = hinc.ReadData()\n",
    "income_df.head()"
   ]
  },
  {
   "cell_type": "code",
   "execution_count": 113,
   "id": "90fd835b",
   "metadata": {},
   "outputs": [
    {
     "data": {
      "text/plain": [
       "(income             inf\n",
       " freq      2.915667e+03\n",
       " cumsum    8.545155e+04\n",
       " ps        6.978029e-01\n",
       " dtype: float64,\n",
       " income             NaN\n",
       " freq       2160.505402\n",
       " cumsum    34096.220084\n",
       " ps            0.278432\n",
       " dtype: float64)"
      ]
     },
     "execution_count": 113,
     "metadata": {},
     "output_type": "execute_result"
    }
   ],
   "source": [
    "# Here are the mean and standard deviation of income for normal distribution\n",
    "mean, std = income_df.mean(), income_df.std()\n",
    "mean,std\n",
    "## --> Income normal distribution mean and standard deviation is infinity means its unable to determine,\n",
    "##    means that we need to go for lognormal model."
   ]
  },
  {
   "cell_type": "code",
   "execution_count": 114,
   "id": "38f34641",
   "metadata": {},
   "outputs": [],
   "source": [
    "## assumption that the largest income among the respondents is  10e6 or one million dollars.\n",
    "## Lowest rang of annual household income Under  5000 or 10e3\n",
    "## Also assumes that incomes in each range are equally spaced on a log10 scale.\n",
    "## Now define a function InterpolateSample generates a pseudo-sample; that is, \n",
    "## a sample of household incomes that yields the same number of respondents in each range as the actual data."
   ]
  },
  {
   "cell_type": "code",
   "execution_count": 115,
   "id": "694b2b65",
   "metadata": {},
   "outputs": [],
   "source": [
    "def InterpolateSample(df, log_upper=6.0):\n",
    "    # compute the log10 of the upper bound for each range\n",
    "    df['log_upper'] = np.log10(df.income)\n",
    "\n",
    "    # get the lower bounds by shifting the upper bound and filling in\n",
    "    # the first element\n",
    "    df['log_lower'] = df.log_upper.shift(1)\n",
    "    df.loc[0, 'log_lower'] = 3.0 # 10e3\n",
    "\n",
    "    # plug in a value for the unknown upper bound of the highest range\n",
    "    df.loc[41, 'log_upper'] = log_upper # 10e6\n",
    "    \n",
    "    # use the freq column to generate the right number of values in\n",
    "    # each range\n",
    "    arrays = []\n",
    "    for _, row in df.iterrows():\n",
    "        vals = np.linspace(row.log_lower, row.log_upper, int(row.freq))\n",
    "        arrays.append(vals)\n",
    "\n",
    "    # collect the arrays into a single sample\n",
    "    log_sample = np.concatenate(arrays)\n",
    "    return log_sample"
   ]
  },
  {
   "cell_type": "code",
   "execution_count": 116,
   "id": "50500d6a",
   "metadata": {},
   "outputs": [],
   "source": [
    "## Load the library and generate the log sample \n",
    "import numpy as np\n",
    "import thinkstats2\n",
    "import thinkplot\n",
    "income_df = hinc.ReadData()\n",
    "log_sample = InterpolateSample(income_df, log_upper=6.0)"
   ]
  },
  {
   "cell_type": "code",
   "execution_count": 117,
   "id": "7b0a1577",
   "metadata": {},
   "outputs": [
    {
     "data": {
      "text/plain": [
       "array([3.        , 3.00016628, 3.00033256, ..., 5.99958621, 5.99979311,\n",
       "       6.        ])"
      ]
     },
     "execution_count": 117,
     "metadata": {},
     "output_type": "execute_result"
    }
   ],
   "source": [
    "log_sample"
   ]
  },
  {
   "cell_type": "code",
   "execution_count": 118,
   "id": "5afdc00a",
   "metadata": {},
   "outputs": [
    {
     "data": {
      "image/png": "[encoded data removed]",
      "text/plain": [
       "<Figure size 432x288 with 1 Axes>"
      ]
     },
     "metadata": {
      "needs_background": "light"
     },
     "output_type": "display_data"
    }
   ],
   "source": [
    "## Perform the CDF operation and plot the income log graph\n",
    "log_cdf = thinkstats2.Cdf(log_sample)\n",
    "thinkplot.Cdf(log_cdf)\n",
    "thinkplot.Config(xlabel='Household income (log $)',\n",
    "               ylabel='CDF')"
   ]
  },
  {
   "cell_type": "code",
   "execution_count": 119,
   "id": "d6fd5fc5",
   "metadata": {},
   "outputs": [],
   "source": [
    "# Generate the sample with log base 10\n",
    "sample = np.power(10, log_sample)"
   ]
  },
  {
   "cell_type": "code",
   "execution_count": 120,
   "id": "0c4d5ce1",
   "metadata": {},
   "outputs": [
    {
     "data": {
      "image/png": "[encoded data removed]",
      "text/plain": [
       "<Figure size 432x288 with 1 Axes>"
      ]
     },
     "metadata": {
      "needs_background": "light"
     },
     "output_type": "display_data"
    }
   ],
   "source": [
    "## Print the graph for income in 10e6 (million)\n",
    "##--> The graph shows that it right skewed \n",
    "cdf = thinkstats2.Cdf(sample)\n",
    "thinkplot.Cdf(cdf)\n",
    "thinkplot.Config(xlabel='Household income ($)',\n",
    "               ylabel='CDF')"
   ]
  },
  {
   "cell_type": "code",
   "execution_count": 121,
   "id": "9fa96b5e",
   "metadata": {},
   "outputs": [
    {
     "data": {
      "text/plain": [
       "74278.7075311872"
      ]
     },
     "execution_count": 121,
     "metadata": {},
     "output_type": "execute_result"
    }
   ],
   "source": [
    "# Now Compute the median, mean, skewness and Pearson’s skewness of the resulting sample. What fraction of households report a taxable income below the mean? \n",
    "# How do the results depend on the assumed upper bound?\n",
    "## --> Mean income is 74278 \n",
    "mean = sample.mean()\n",
    "mean"
   ]
  },
  {
   "cell_type": "code",
   "execution_count": 122,
   "id": "84528cac",
   "metadata": {},
   "outputs": [
    {
     "data": {
      "text/plain": [
       "93946.92996347835"
      ]
     },
     "execution_count": 122,
     "metadata": {},
     "output_type": "execute_result"
    }
   ],
   "source": [
    "## --> Std income is 74278 \n",
    "std = sample.std()\n",
    "std"
   ]
  },
  {
   "cell_type": "code",
   "execution_count": 123,
   "id": "006c9811",
   "metadata": {},
   "outputs": [
    {
     "data": {
      "text/plain": [
       "51226.93306562372"
      ]
     },
     "execution_count": 123,
     "metadata": {},
     "output_type": "execute_result"
    }
   ],
   "source": [
    "## --> Mean income is 51226.93306562372\n",
    "from statistics import median\n",
    "median = median(sample)\n",
    "median"
   ]
  },
  {
   "cell_type": "code",
   "execution_count": 124,
   "id": "7d33feed",
   "metadata": {},
   "outputs": [
    {
     "data": {
      "text/plain": [
       "4.949920244429584"
      ]
     },
     "execution_count": 124,
     "metadata": {},
     "output_type": "execute_result"
    }
   ],
   "source": [
    "# Determine skewness and Pearson’s skewness of the sample\n",
    "from scipy.stats import kurtosis, skew\n",
    "skew(sample)\n",
    "#, PearsonMedianSkewness(sample)"
   ]
  },
  {
   "cell_type": "code",
   "execution_count": 125,
   "id": "b1fd1e3a",
   "metadata": {},
   "outputs": [
    {
     "data": {
      "text/plain": [
       "(51226.93306562372, 93946.92996347835, 74278.7075311872)"
      ]
     },
     "execution_count": 125,
     "metadata": {},
     "output_type": "execute_result"
    }
   ],
   "source": [
    "#PearsonMedianSkewness(sample) \n",
    "# formula for PearsonMedianSkewness =3 * (mean - median) / std\n",
    "median,std,mean"
   ]
  },
  {
   "cell_type": "code",
   "execution_count": 126,
   "id": "d618ffdb",
   "metadata": {},
   "outputs": [
    {
     "data": {
      "text/plain": [
       "0.7361105192428792"
      ]
     },
     "execution_count": 126,
     "metadata": {},
     "output_type": "execute_result"
    }
   ],
   "source": [
    "# Pearson’s skewness =0.736 \n",
    "pskew = 3 * (mean - median) / std\n",
    "pskew\n",
    "\n",
    "## --> Both skewness and Pearson’s skewness of the sample are positive means right skew"
   ]
  },
  {
   "cell_type": "code",
   "execution_count": 127,
   "id": "58214de5",
   "metadata": {},
   "outputs": [
    {
     "data": {
      "text/plain": [
       "0.660005879566872"
      ]
     },
     "execution_count": 127,
     "metadata": {},
     "output_type": "execute_result"
    }
   ],
   "source": [
    "# What fraction of households report a taxable income below the mean?\n",
    "## Use CDF to determine this\n",
    "## ans-- About 66% of the population makes less than the mean\n",
    "cdf.Prob(sample.mean())"
   ]
  },
  {
   "cell_type": "code",
   "execution_count": 128,
   "id": "545b76d4",
   "metadata": {},
   "outputs": [
    {
     "data": {
      "text/plain": [
       "array([3.        , 3.00016628, 3.00033256, ..., 6.99889893, 6.99944946,\n",
       "       7.        ])"
      ]
     },
     "execution_count": 128,
     "metadata": {},
     "output_type": "execute_result"
    }
   ],
   "source": [
    "# How do the results depend on the assumed upper bound?\n",
    "## lets consider the upper limit is 10 million(10e7) and then compute the log samle\n",
    "log_sample2 = InterpolateSample(income_df, log_upper=7.0)\n",
    "log_sample2\n"
   ]
  },
  {
   "cell_type": "code",
   "execution_count": 129,
   "id": "e9599e7d",
   "metadata": {},
   "outputs": [
    {
     "data": {
      "text/plain": [
       "array([3.        , 3.00016628, 3.00033256, ..., 5.99958621, 5.99979311,\n",
       "       6.        ])"
      ]
     },
     "execution_count": 129,
     "metadata": {},
     "output_type": "execute_result"
    }
   ],
   "source": [
    "## Log sample for upper limit million 10e6\n",
    "log_sample"
   ]
  },
  {
   "cell_type": "code",
   "execution_count": null,
   "id": "580233a4",
   "metadata": {},
   "outputs": [],
   "source": [
    "## Ans--> As we can see the log sample values are changing based on upper limit ,so Without better information about the top of this distribution, we can't say much about the skewness of the distribution"
   ]
  }
 ],
 "metadata": {
  "kernelspec": {
   "display_name": "Python 3 (ipykernel)",
   "language": "python",
   "name": "python3"
  },
  "language_info": {
   "codemirror_mode": {
    "name": "ipython",
    "version": 3
   },
   "file_extension": ".py",
   "mimetype": "text/x-python",
   "name": "python",
   "nbconvert_exporter": "python",
   "pygments_lexer": "ipython3",
   "version": "3.9.12"
  }
 },
 "nbformat": 4,
 "nbformat_minor": 5
}
