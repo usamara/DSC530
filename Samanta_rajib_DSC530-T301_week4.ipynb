{
 "cells": [
  {
   "cell_type": "code",
   "execution_count": 62,
   "id": "c22e61b6",
   "metadata": {},
   "outputs": [],
   "source": [
    "# Assignment Page 35-36: 3-1\n",
    "from os.path import basename, exists\n",
    "def download(url):\n",
    "    filename = basename(url)\n",
    "    if not exists(filename):\n",
    "        from urllib.request import urlretrieve\n",
    "\n",
    "        local, _ = urlretrieve(url, filename)\n",
    "        print(\"Downloaded \" + local)\n",
    "download(\"https://github.com/AllenDowney/ThinkStats2/raw/master/code/2002FemResp.dct\")\n",
    "download(\"https://github.com/AllenDowney/ThinkStats2/raw/master/code/2002FemResp.dat.gz\")"
   ]
  },
  {
   "cell_type": "code",
   "execution_count": 63,
   "id": "d6d998d3",
   "metadata": {},
   "outputs": [],
   "source": [
    "import nsfg\n",
    "resp = nsfg.ReadFemResp()\n",
    "\n"
   ]
  },
  {
   "cell_type": "code",
   "execution_count": 64,
   "id": "f4c08b26",
   "metadata": {},
   "outputs": [
    {
     "data": {
      "text/plain": [
       "Index(['caseid', 'rscrinf', 'rdormres', 'rostscrn', 'rscreenhisp',\n",
       "       'rscreenrace', 'age_a', 'age_r', 'cmbirth', 'agescrn',\n",
       "       ...\n",
       "       'pubassis_i', 'basewgt', 'adj_mod_basewgt', 'finalwgt', 'secu_r',\n",
       "       'sest', 'cmintvw', 'cmlstyr', 'screentime', 'intvlngth'],\n",
       "      dtype='object', length=3087)"
      ]
     },
     "execution_count": 64,
     "metadata": {},
     "output_type": "execute_result"
    }
   ],
   "source": [
    "# List out the columns\n",
    "resp.columns"
   ]
  },
  {
   "cell_type": "code",
   "execution_count": 66,
   "id": "500154cd",
   "metadata": {},
   "outputs": [],
   "source": [
    "import thinkplot\n",
    "import thinkstats2\n",
    "# Peform the pmf for numkdhh the actual one\n",
    "pmf = thinkstats2.Pmf(resp.numkdhh, label=\"Unbiased\")"
   ]
  },
  {
   "cell_type": "code",
   "execution_count": 68,
   "id": "5765b646",
   "metadata": {},
   "outputs": [
    {
     "data": {
      "image/png": "[encoded data removed]",
      "text/plain": [
       "<Figure size 432x288 with 1 Axes>"
      ]
     },
     "metadata": {
      "needs_background": "light"
     },
     "output_type": "display_data"
    }
   ],
   "source": [
    "# plot the actaul pmf for no of children\n",
    "thinkplot.Pmf(pmf)\n",
    "thinkplot.Config(xlabel=\"Number of children\", ylabel=\"PMF\")\n",
    "# It shows that probablity of having no children is more than 40%"
   ]
  },
  {
   "cell_type": "code",
   "execution_count": 69,
   "id": "76aed9db",
   "metadata": {},
   "outputs": [],
   "source": [
    "# Now calculate the biased distribution\n",
    "# This function computes the biased PMF we would get if we surveyed children and asked how many children in their family\n",
    "def BiasPmf(pmf, label):\n",
    "    new_pmf = pmf.Copy(label=label)\n",
    "\n",
    "    for x, p in pmf.Items():\n",
    "        new_pmf.Mult(x, x)\n",
    "\n",
    "    new_pmf.Normalize()\n",
    "    return new_pmf"
   ]
  },
  {
   "cell_type": "code",
   "execution_count": 70,
   "id": "635be33a",
   "metadata": {},
   "outputs": [],
   "source": [
    "biased_pmf = BiasPmf(pmf, label=\"Biased\")"
   ]
  },
  {
   "cell_type": "code",
   "execution_count": 71,
   "id": "d58b22a7",
   "metadata": {},
   "outputs": [
    {
     "data": {
      "text/plain": [
       "Pmf({0: 0.0, 1: 0.20899335717935616, 2: 0.38323965252938175, 3: 0.25523760858456823, 4: 0.10015329586101177, 5: 0.052376085845682166}, 'Biased')"
      ]
     },
     "execution_count": 71,
     "metadata": {},
     "output_type": "execute_result"
    }
   ],
   "source": [
    "biased_pmf\n",
    "# We can see no children has zero probabilty with biased distribution"
   ]
  },
  {
   "cell_type": "code",
   "execution_count": 72,
   "id": "06bc2a75",
   "metadata": {},
   "outputs": [
    {
     "data": {
      "image/png": "[encoded data removed]",
      "text/plain": [
       "<Figure size 432x288 with 1 Axes>"
      ]
     },
     "metadata": {
      "needs_background": "light"
     },
     "output_type": "display_data"
    }
   ],
   "source": [
    "# plot the biased and unbiased distribution\n",
    "thinkplot.PrePlot(2)\n",
    "thinkplot.Pmfs([pmf, biased_pmf])\n",
    "thinkplot.Config(xlabel=\"Number of children\", ylabel=\"PMF\")"
   ]
  },
  {
   "cell_type": "code",
   "execution_count": 73,
   "id": "948090ec",
   "metadata": {},
   "outputs": [
    {
     "data": {
      "text/plain": [
       "1.024205155043831"
      ]
     },
     "execution_count": 73,
     "metadata": {},
     "output_type": "execute_result"
    }
   ],
   "source": [
    "# Assignment Page 35-36: 3-2\n",
    "# Compute the mean\n",
    "# unbiased mean with standard function\n",
    "pmf.Mean()"
   ]
  },
  {
   "cell_type": "code",
   "execution_count": 74,
   "id": "bad478a6",
   "metadata": {},
   "outputs": [
    {
     "data": {
      "text/plain": [
       "2.403679100664282"
      ]
     },
     "execution_count": 74,
     "metadata": {},
     "output_type": "execute_result"
    }
   ],
   "source": [
    "# Biased mean\n",
    "biased_pmf.Mean()"
   ]
  },
  {
   "cell_type": "code",
   "execution_count": 75,
   "id": "1fb113aa",
   "metadata": {},
   "outputs": [],
   "source": [
    "# use function to compute the mean\n",
    "def PmfMean(pmf):\n",
    "    return sum(p * x for x, p in pmf.Items())"
   ]
  },
  {
   "cell_type": "code",
   "execution_count": 76,
   "id": "2a5fb900",
   "metadata": {},
   "outputs": [
    {
     "data": {
      "text/plain": [
       "2.403679100664282"
      ]
     },
     "execution_count": 76,
     "metadata": {},
     "output_type": "execute_result"
    }
   ],
   "source": [
    "\n",
    "# mean for biased\n",
    "PmfMean(biased_pmf)"
   ]
  },
  {
   "cell_type": "code",
   "execution_count": 77,
   "id": "49215464",
   "metadata": {},
   "outputs": [
    {
     "data": {
      "text/plain": [
       "1.024205155043831"
      ]
     },
     "execution_count": 77,
     "metadata": {},
     "output_type": "execute_result"
    }
   ],
   "source": [
    "#Unbiased\n",
    "PmfMean(pmf)"
   ]
  },
  {
   "cell_type": "code",
   "execution_count": 78,
   "id": "9e5f2ed9",
   "metadata": {},
   "outputs": [],
   "source": [
    "# Assignment Page 47: 4-1\n",
    "# Exercise: How much did you weigh at birth? If you don’t know, call your mother or someone else who knows. Using the NSFG data (all live births), \n",
    "# compute the distribution of birth weights and use it to find your percentile rank. If you were a first baby, find your percentile rank in the distribution for first babies. Otherwise use the distribution for others. If you are in the 90th percentile or higher, call your mother back and apologize.\n",
    "\n",
    "## Ans -->  My Birth weight was 8 lb and I am 2nd child"
   ]
  },
  {
   "cell_type": "code",
   "execution_count": 79,
   "id": "d3fec024",
   "metadata": {},
   "outputs": [],
   "source": [
    "# Load first file to get the attribute totalwgt_lb \n",
    "download(\"https://github.com/AllenDowney/ThinkStats2/raw/master/code/first.py\")\n",
    "import first\n",
    "live, firsts, others = first.MakeFrames()"
   ]
  },
  {
   "cell_type": "code",
   "execution_count": 80,
   "id": "e535dc80",
   "metadata": {},
   "outputs": [
    {
     "name": "stdout",
     "output_type": "stream",
     "text": [
      "Firsts 4413 4363\n",
      "Others 4735 4675\n"
     ]
    }
   ],
   "source": [
    "# compute the distribution of birth weight for first babies and others.\n",
    "first_wgt = firsts.totalwgt_lb\n",
    "first_wgt_dropna = first_wgt.dropna()\n",
    "print('Firsts', len(first_wgt), len(first_wgt_dropna))\n",
    " \n",
    "other_wgt = others.totalwgt_lb\n",
    "other_wgt_dropna = other_wgt.dropna()\n",
    "print('Others', len(other_wgt), len(other_wgt_dropna))\n",
    "\n",
    "first_pmf = thinkstats2.Pmf(first_wgt_dropna, label='first')\n",
    "other_pmf = thinkstats2.Pmf(other_wgt_dropna, label='other')"
   ]
  },
  {
   "cell_type": "code",
   "execution_count": 82,
   "id": "f7fc04a0",
   "metadata": {},
   "outputs": [],
   "source": [
    "first_cdf = thinkstats2.Cdf(firsts.totalwgt_lb, label='first')\n",
    "other_cdf = thinkstats2.Cdf(others.totalwgt_lb, label='other')"
   ]
  },
  {
   "cell_type": "code",
   "execution_count": 83,
   "id": "5f07e7b2",
   "metadata": {},
   "outputs": [
    {
     "data": {
      "image/png": "[encoded data removed]",
      "text/plain": [
       "<Figure size 432x288 with 1 Axes>"
      ]
     },
     "metadata": {
      "needs_background": "light"
     },
     "output_type": "display_data"
    }
   ],
   "source": [
    "# First Child CDF distribution\n",
    "thinkplot.Cdf(first_cdf)\n",
    "thinkplot.Config(xlabel='Weight (pounds)', ylabel='CDF')"
   ]
  },
  {
   "cell_type": "code",
   "execution_count": 84,
   "id": "3df90b29",
   "metadata": {},
   "outputs": [
    {
     "data": {
      "image/png": "[encoded data removed]",
      "text/plain": [
       "<Figure size 432x288 with 1 Axes>"
      ]
     },
     "metadata": {
      "needs_background": "light"
     },
     "output_type": "display_data"
    }
   ],
   "source": [
    "# Others Child CDF distribution graph\n",
    "thinkplot.Cdf(other_cdf)\n",
    "thinkplot.Config(xlabel='Weight (pounds)', ylabel='CDF')"
   ]
  },
  {
   "cell_type": "code",
   "execution_count": 85,
   "id": "2ef55139",
   "metadata": {},
   "outputs": [
    {
     "data": {
      "text/plain": [
       "71.12299465240642"
      ]
     },
     "execution_count": 85,
     "metadata": {},
     "output_type": "execute_result"
    }
   ],
   "source": [
    "# As I am 2nd child , now compute the PercentileRank of my birth weight 8 pound\n",
    "other_cdf.PercentileRank(8.0)"
   ]
  },
  {
   "cell_type": "code",
   "execution_count": 86,
   "id": "565510e5",
   "metadata": {},
   "outputs": [
    {
     "data": {
      "text/plain": [
       "73.32374419119274"
      ]
     },
     "execution_count": 86,
     "metadata": {},
     "output_type": "execute_result"
    }
   ],
   "source": [
    "# Now compare the CDF for live child and my PercentileRank\n",
    "weights = live.totalwgt_lb\n",
    "live_cdf = thinkstats2.Cdf(weights, label='live')\n",
    "live_cdf.PercentileRank(8.0)\n",
    "#--> For Live child senario , percentile Rank is more( 2%) than overall other child senario"
   ]
  },
  {
   "cell_type": "code",
   "execution_count": 87,
   "id": "87f60d96",
   "metadata": {},
   "outputs": [],
   "source": [
    "# Assignment Page 48: 4-2\n",
    "##  The numbers generated by random.random are supposed to be uniform between 0 and 1; that is, \n",
    "## every value in the range should have the same probability…)\n",
    "import numpy as np"
   ]
  },
  {
   "cell_type": "code",
   "execution_count": 88,
   "id": "35bcdc49",
   "metadata": {},
   "outputs": [
    {
     "data": {
      "image/png": "[encoded data removed]",
      "text/plain": [
       "<Figure size 432x288 with 1 Axes>"
      ]
     },
     "metadata": {
      "needs_background": "light"
     },
     "output_type": "display_data"
    }
   ],
   "source": [
    "# Generate 200 random number\n",
    "ran_df = np.random.random(200)\n",
    "\n",
    "# Perform PMF and plot the distribution\n",
    "ran_pmf = thinkstats2.Pmf(ran_df)\n",
    "thinkplot.Pmf(ran_pmf, linewidth=0.2)\n",
    "thinkplot.Config(xlabel='Random variate', ylabel='PMF')"
   ]
  },
  {
   "cell_type": "code",
   "execution_count": 89,
   "id": "a72b57b2",
   "metadata": {},
   "outputs": [
    {
     "data": {
      "image/png": "[encoded data removed]",
      "text/plain": [
       "<Figure size 432x288 with 1 Axes>"
      ]
     },
     "metadata": {
      "needs_background": "light"
     },
     "output_type": "display_data"
    }
   ],
   "source": [
    "# Perform CDF and plot the distribution\n",
    "\n",
    "ran_cdf = thinkstats2.Cdf(ran_df)\n",
    "thinkplot.Cdf(ran_cdf)\n",
    "thinkplot.Config(xlabel='Random variate', ylabel='CDF')"
   ]
  },
  {
   "cell_type": "code",
   "execution_count": null,
   "id": "48ba2a93",
   "metadata": {},
   "outputs": [],
   "source": [
    "## From the above plot it looks like CDF distribution is uniform where as PMF is not uniform distribution."
   ]
  }
 ],
 "metadata": {
  "kernelspec": {
   "display_name": "Python 3 (ipykernel)",
   "language": "python",
   "name": "python3"
  },
  "language_info": {
   "codemirror_mode": {
    "name": "ipython",
    "version": 3
   },
   "file_extension": ".py",
   "mimetype": "text/x-python",
   "name": "python",
   "nbconvert_exporter": "python",
   "pygments_lexer": "ipython3",
   "version": "3.9.12"
  }
 },
 "nbformat": 4,
 "nbformat_minor": 5
}
