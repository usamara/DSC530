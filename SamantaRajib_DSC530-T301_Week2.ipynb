{
 "cells": [
  {
   "cell_type": "code",
   "execution_count": 40,
   "id": "25424726",
   "metadata": {},
   "outputs": [
    {
     "name": "stdout",
     "output_type": "stream",
     "text": [
      "Hello World! My name is Rajib Samanta\n"
     ]
    }
   ],
   "source": [
    "print('Hello World! My name is ' + 'Rajib Samanta')"
   ]
  },
  {
   "cell_type": "code",
   "execution_count": 41,
   "id": "c3906108",
   "metadata": {},
   "outputs": [
    {
     "name": "stdout",
     "output_type": "stream",
     "text": [
      "Enter First Number:\n",
      "12\n",
      "Enter Second Number:\n",
      "23\n",
      "Sum of 12.0 and 23.0 is 35.0\n"
     ]
    }
   ],
   "source": [
    "#Python program to add two numbers using function\n",
    "def add_num(a,b):#function for addition\n",
    "    sum=a+b;\n",
    "    return sum; #return value\n",
    "\n",
    "# input the number\n",
    "x = float(input(\"Enter First Number:\\n\"))\n",
    "y = float(input(\"Enter Second Number:\\n\"))\n",
    "print(\"Sum of\", x, \"and\", y, \"is\", add_num(x,y))\n"
   ]
  },
  {
   "cell_type": "code",
   "execution_count": 42,
   "id": "a9088589",
   "metadata": {
    "scrolled": true
   },
   "outputs": [
    {
     "name": "stdout",
     "output_type": "stream",
     "text": [
      "Enter the fisrt Number :\n",
      "23\n",
      "Enter Second Number you want to subtract :\n",
      "12\n",
      " Subtraction result :  23.0 - 12.0 = 11.0\n"
     ]
    }
   ],
   "source": [
    "#Python program to Subtract a number from another number\n",
    "def sub_num(a,b):#function for Subtract\n",
    "    result=a-b;\n",
    "    return result; #return value\n",
    "\n",
    "# input number\n",
    "x = float(input(\"Enter the fisrt Number :\\n\"))\n",
    "y = float(input(\"Enter Second Number you want to subtract :\\n\"))\n",
    "print(\" Subtraction result : \", x , \"-\", y, \"=\", sub_num(x,y))"
   ]
  },
  {
   "cell_type": "code",
   "execution_count": 43,
   "id": "ef5a8cb2",
   "metadata": {},
   "outputs": [
    {
     "name": "stdout",
     "output_type": "stream",
     "text": [
      "Enter the Fisrt Number :\n",
      "12\n",
      "Enter the Second Number :\n",
      "12\n",
      " Multiplication result :  12.0 * 12.0 = 144.0\n"
     ]
    }
   ],
   "source": [
    "#Python program to Multiply two numbers\n",
    "def mul_num(a,b):#function for Multiply\n",
    "    result=a*b;\n",
    "    return result; #return value\n",
    "\n",
    "# input number\n",
    "x = float(input(\"Enter the Fisrt Number :\\n\"))\n",
    "y = float(input(\"Enter the Second Number :\\n\"))\n",
    "print(\" Multiplication result : \", x , \"*\", y, \"=\", round(mul_num(x,y),2))"
   ]
  },
  {
   "cell_type": "code",
   "execution_count": 44,
   "id": "05ca7270",
   "metadata": {},
   "outputs": [
    {
     "name": "stdout",
     "output_type": "stream",
     "text": [
      "Enter the Fisrt Number :\n",
      "12\n",
      "Enter the Second Number :\n",
      "4\n",
      " Division result :  12.0 / 4.0 = 3.0\n"
     ]
    }
   ],
   "source": [
    "#Python program to Divide between two numbers\n",
    "def div_num(a,b):#function for Divide\n",
    "    result=a/b;\n",
    "    return result; #return value\n",
    "\n",
    "# input number\n",
    "x = float(input(\"Enter the Fisrt Number :\\n\"))\n",
    "y = float(input(\"Enter the Second Number :\\n\"))\n",
    "print(\" Division result : \", x , \"/\", y, \"=\", round(div_num(x,y),2))"
   ]
  },
  {
   "cell_type": "code",
   "execution_count": 45,
   "id": "ce23fbdd",
   "metadata": {},
   "outputs": [
    {
     "name": "stdout",
     "output_type": "stream",
     "text": [
      "Enter the Fisrt String :\n",
      "Rajib\n",
      "Enter the Second String :\n",
      "Samanta\n",
      " Concatenated result :  Rajib + Samanta = Rajib Samanta\n"
     ]
    }
   ],
   "source": [
    "#Python program to Concatenate two strings together\n",
    "def concat_string(a,b):#function for Concatenate\n",
    "    result=\" \".join([a,b]);\n",
    "    return result; #return value\n",
    "\n",
    "# input number\n",
    "x = input(\"Enter the Fisrt String :\\n\")\n",
    "y = input(\"Enter the Second String :\\n\")\n",
    "print(\" Concatenated result : \", x , \"+\", y, \"=\", concat_string(x,y))"
   ]
  },
  {
   "cell_type": "code",
   "execution_count": 46,
   "id": "1f66cf74",
   "metadata": {},
   "outputs": [
    {
     "name": "stdout",
     "output_type": "stream",
     "text": [
      "[1, 2, 'Three', 'Four']\n"
     ]
    }
   ],
   "source": [
    "# Create a list of 4 items (can be strings, numbers, both)\n",
    "list_mixed = [1, 2,'Three','Four']\n",
    "print(list_mixed)\n"
   ]
  },
  {
   "cell_type": "code",
   "execution_count": 47,
   "id": "62fb72f4",
   "metadata": {},
   "outputs": [
    {
     "name": "stdout",
     "output_type": "stream",
     "text": [
      "[1, 2, 'Three', 'Four', 5, 'Six']\n"
     ]
    }
   ],
   "source": [
    "# Append an item to your list (again, can be a string, number)\n",
    "list_mixed.append(5)\n",
    "list_mixed.append('Six')\n",
    "print(list_mixed)"
   ]
  },
  {
   "cell_type": "code",
   "execution_count": 48,
   "id": "fd2e02cb",
   "metadata": {},
   "outputs": [
    {
     "name": "stdout",
     "output_type": "stream",
     "text": [
      "(1, 'Hello', 3.4, 'Tuple')\n"
     ]
    }
   ],
   "source": [
    "# Create a tuple with 4 items (can be strings, numbers, both)\n",
    "# tuple with mixed datatypes\n",
    "tuple_mixed = (1, \"Hello\", 3.4,'Tuple')\n",
    "print(tuple_mixed)"
   ]
  },
  {
   "cell_type": "code",
   "execution_count": null,
   "id": "33e382d8",
   "metadata": {},
   "outputs": [],
   "source": []
  }
 ],
 "metadata": {
  "kernelspec": {
   "display_name": "Python 3 (ipykernel)",
   "language": "python",
   "name": "python3"
  },
  "language_info": {
   "codemirror_mode": {
    "name": "ipython",
    "version": 3
   },
   "file_extension": ".py",
   "mimetype": "text/x-python",
   "name": "python",
   "nbconvert_exporter": "python",
   "pygments_lexer": "ipython3",
   "version": "3.9.12"
  }
 },
 "nbformat": 4,
 "nbformat_minor": 5
}
